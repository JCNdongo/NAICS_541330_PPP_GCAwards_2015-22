{
 "cells": [
  {
   "cell_type": "code",
   "execution_count": 1,
   "id": "1abb749c",
   "metadata": {},
   "outputs": [],
   "source": [
    "import pandas as pd\n",
    "import os"
   ]
  },
  {
   "cell_type": "code",
   "execution_count": 2,
   "id": "43deb641",
   "metadata": {},
   "outputs": [],
   "source": [
    "# Path to the source folder\n",
    "folder_path = r'F:\\FAU PhD\\DISSERTATION\\DATABASES\\ALL PPP Loan Data\\PPP Orig csv Files\\PPP NAICS 541330 Only'\n"
   ]
  },
  {
   "cell_type": "code",
   "execution_count": 3,
   "id": "ff3d6a2b",
   "metadata": {},
   "outputs": [],
   "source": [
    "# Get a list of all CSV files in the folder\n",
    "csv_files = [file for file in os.listdir(folder_path) if file.endswith('.csv')]\n",
    "\n",
    "# Initialize an empty DataFrame to hold the merged data\n",
    "merged_data = pd.DataFrame()"
   ]
  },
  {
   "cell_type": "code",
   "execution_count": 4,
   "id": "351e1e5c",
   "metadata": {},
   "outputs": [],
   "source": [
    "# Loop through each CSV file and merge its data into the DataFrame\n",
    "for file in csv_files:\n",
    "    file_path = os.path.join(folder_path, file)\n",
    "    data = pd.read_csv(file_path)\n",
    "    merged_data = pd.concat([merged_data, data], ignore_index=True)\n"
   ]
  },
  {
   "cell_type": "code",
   "execution_count": 5,
   "id": "44845b74",
   "metadata": {},
   "outputs": [],
   "source": [
    "# Save the merged data to a new CSV file\n",
    "merged_data.to_csv('PPP_NAICS_Eng_All.csv', index=False)"
   ]
  }
 ],
 "metadata": {
  "kernelspec": {
   "display_name": "PythonData",
   "language": "python",
   "name": "pythondata"
  },
  "language_info": {
   "codemirror_mode": {
    "name": "ipython",
    "version": 3
   },
   "file_extension": ".py",
   "mimetype": "text/x-python",
   "name": "python",
   "nbconvert_exporter": "python",
   "pygments_lexer": "ipython3",
   "version": "3.7.7"
  }
 },
 "nbformat": 4,
 "nbformat_minor": 5
}
